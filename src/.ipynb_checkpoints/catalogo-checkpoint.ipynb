{
 "cells": [
  {
   "cell_type": "code",
   "execution_count": 12,
   "id": "0948cc8a-b89d-4152-bc1b-5ee703d632aa",
   "metadata": {},
   "outputs": [],
   "source": [
    "from trino.dbapi import connect\n",
    "\n",
    "def select_trino(sql):\n",
    "    conn = connect(\n",
    "        host=\"trino\",\n",
    "        port=8080,\n",
    "        user=\"trino\",\n",
    "        catalog=\"minio\",\n",
    "        schema=\"gold\",\n",
    "    )\n",
    "    cur = conn.cursor()\n",
    "    cur.execute(\"SELECT * FROM gold.api_json\")\n",
    "    rows = cur.fetchall()\n",
    "\n",
    "    for row in rows:\n",
    "        print(row)"
   ]
  },
  {
   "cell_type": "code",
   "execution_count": 5,
   "id": "89234d12-8bed-4e9d-924a-4fe3c78f4d38",
   "metadata": {
    "tags": []
   },
   "outputs": [
    {
     "data": {
      "text/plain": [
       "<trino.dbapi.Cursor at 0x7f1444245870>"
      ]
     },
     "execution_count": 5,
     "metadata": {},
     "output_type": "execute_result"
    }
   ],
   "source": [
    "sql = '''\n",
    "CREATE TABLE IF NOT EXISTS minio.gold.api_json (\n",
    "  code varchar,\n",
    "  symbol varchar,\n",
    "  rate   varchar,\n",
    "  description varchar,\n",
    "  rate_float double\n",
    ")\n",
    "WITH (\n",
    "  external_location = 's3a://gold/api_json/',\n",
    "  format = 'PARQUET'\n",
    ")\n",
    "'''\n",
    "conn = connect(\n",
    "    host=\"trino\",\n",
    "    port=8080,\n",
    "    user=\"trino\",\n",
    "    catalog=\"minio\",\n",
    "    schema=\"gold\",\n",
    ")\n",
    "cur = conn.cursor()\n",
    "cur.execute(sql)"
   ]
  },
  {
   "cell_type": "code",
   "execution_count": 10,
   "id": "02bbe484-d0cb-4f83-acdd-f273ccf2971e",
   "metadata": {
    "tags": []
   },
   "outputs": [
    {
     "data": {
      "text/plain": [
       "[[True]]"
      ]
     },
     "execution_count": 10,
     "metadata": {},
     "output_type": "execute_result"
    }
   ],
   "source": [
    "cur.fetchall()"
   ]
  },
  {
   "cell_type": "code",
   "execution_count": null,
   "id": "fadf969c-bee3-4dc5-9ad0-9433715fe909",
   "metadata": {},
   "outputs": [],
   "source": []
  }
 ],
 "metadata": {
  "kernelspec": {
   "display_name": "Python 3 (ipykernel)",
   "language": "python",
   "name": "python3"
  },
  "language_info": {
   "codemirror_mode": {
    "name": "ipython",
    "version": 3
   },
   "file_extension": ".py",
   "mimetype": "text/x-python",
   "name": "python",
   "nbconvert_exporter": "python",
   "pygments_lexer": "ipython3",
   "version": "3.10.9"
  }
 },
 "nbformat": 4,
 "nbformat_minor": 5
}
